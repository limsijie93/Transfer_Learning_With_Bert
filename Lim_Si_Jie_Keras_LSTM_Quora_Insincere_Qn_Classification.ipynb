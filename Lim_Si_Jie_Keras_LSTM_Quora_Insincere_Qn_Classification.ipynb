{
  "nbformat": 4,
  "nbformat_minor": 0,
  "metadata": {
    "colab": {
      "name": "Lim_Si_Jie_Keras_LSTM_Quora_Insincere_Qn_Classification.ipynb",
      "version": "0.3.2",
      "provenance": [],
      "collapsed_sections": []
    },
    "kernelspec": {
      "name": "python3",
      "display_name": "Python 3"
    },
    "accelerator": "GPU"
  },
  "cells": [
    {
      "metadata": {
        "id": "RhBc17CuULmV",
        "colab_type": "code",
        "outputId": "b30aca07-aa0b-4cce-8dcf-731d46e3e385",
        "colab": {
          "base_uri": "https://localhost:8080/",
          "height": 170
        }
      },
      "cell_type": "code",
      "source": [
        "!pip install kaggle --u"
      ],
      "execution_count": 0,
      "outputs": [
        {
          "output_type": "stream",
          "text": [
            "\n",
            "Usage:   \n",
            "  pip3 install [options] <requirement specifier> [package-index-options] ...\n",
            "  pip3 install [options] -r <requirements file> [package-index-options] ...\n",
            "  pip3 install [options] [-e] <vcs project url> ...\n",
            "  pip3 install [options] [-e] <local project path> ...\n",
            "  pip3 install [options] <archive url/path> ...\n",
            "\n",
            "ambiguous option: --u (--upgrade, --upgrade-strategy, --use-pep517, --user?)\n"
          ],
          "name": "stdout"
        }
      ]
    },
    {
      "metadata": {
        "id": "OuOiIrMPZFF1",
        "colab_type": "text"
      },
      "cell_type": "markdown",
      "source": [
        "## Mount Google Drive to Google's Linux VM (Colab)"
      ]
    },
    {
      "metadata": {
        "id": "YlgNAF-_ZJBK",
        "colab_type": "code",
        "outputId": "6132fe1d-2b5c-4964-c99c-484bde6654e5",
        "colab": {
          "base_uri": "https://localhost:8080/",
          "height": 34
        }
      },
      "cell_type": "code",
      "source": [
        "from google.colab import drive\n",
        "drive.mount('/gdrive')"
      ],
      "execution_count": 0,
      "outputs": [
        {
          "output_type": "stream",
          "text": [
            "Drive already mounted at /gdrive; to attempt to forcibly remount, call drive.mount(\"/gdrive\", force_remount=True).\n"
          ],
          "name": "stdout"
        }
      ]
    },
    {
      "metadata": {
        "id": "NVNWpfSaZNeQ",
        "colab_type": "code",
        "outputId": "a63a96c8-bf2c-4291-d91d-8cabe92f713a",
        "colab": {
          "base_uri": "https://localhost:8080/",
          "height": 34
        }
      },
      "cell_type": "code",
      "source": [
        "#Check whether Google Drive is connected\n",
        "\n",
        "with open('/gdrive/My Drive/test.txt', 'w') as f:\n",
        "  f.write('Hello Google Drive!')\n",
        "!cat '/gdrive/My Drive/test.txt'"
      ],
      "execution_count": 0,
      "outputs": [
        {
          "output_type": "stream",
          "text": [
            "Hello Google Drive!"
          ],
          "name": "stdout"
        }
      ]
    },
    {
      "metadata": {
        "id": "Vswl4a7qZRPD",
        "colab_type": "code",
        "colab": {}
      },
      "cell_type": "code",
      "source": [
        "#Connecting to Kaggle API and showing all available dataset\n",
        "\n",
        "!pip install -U -q kaggle\n",
        "!mkdir -p ~/.kaggle\n",
        "\n",
        "!cp \"/gdrive/My Drive/Deep Learning Workshop/kaggle.json\" ~/.kaggle/"
      ],
      "execution_count": 0,
      "outputs": []
    },
    {
      "metadata": {
        "id": "ieFbRWIi6B_v",
        "colab_type": "code",
        "outputId": "b6b2fdc3-8ea1-4019-e064-356a5fc79667",
        "colab": {
          "base_uri": "https://localhost:8080/",
          "height": 411
        }
      },
      "cell_type": "code",
      "source": [
        "!kaggle datasets list"
      ],
      "execution_count": 0,
      "outputs": [
        {
          "output_type": "stream",
          "text": [
            "ref                                                          title                                                size  lastUpdated          downloadCount  \n",
            "-----------------------------------------------------------  --------------------------------------------------  -----  -------------------  -------------  \n",
            "ronitf/heart-disease-uci                                     Heart Disease UCI                                     3KB  2018-06-25 11:33:56           9170  \n",
            "lava18/google-play-store-apps                                Google Play Store Apps                                2MB  2019-02-03 13:55:47          37627  \n",
            "karangadiya/fifa19                                           FIFA 19 complete player dataset                       2MB  2018-12-21 03:52:59           9804  \n",
            "vjchoudhary7/customer-segmentation-tutorial-in-python        Mall Customer Segmentation Data                       2KB  2018-08-11 07:23:02           2850  \n",
            "russellyates88/suicide-rates-overview-1985-to-2016           Suicide Rates Overview 1985 to 2016                 396KB  2018-12-01 19:18:25           6376  \n",
            "bigquery/crypto-ethereum-classic                             Ethereum Classic Blockchain                          66GB  2019-02-05 17:41:48              0  \n",
            "iarunava/cell-images-for-detecting-malaria                   Malaria Cell Images Dataset                         337MB  2018-12-05 05:40:21           1780  \n",
            "mohansacharya/graduate-admissions                            Graduate Admissions                                   9KB  2018-12-28 10:07:14          10403  \n",
            "jessicali9530/stanford-dogs-dataset                          Stanford Dogs Dataset                               735MB  2019-02-13 05:45:25            550  \n",
            "safegraph/census-block-group-american-community-survey-data  Census Block Group American Community Survey Data     2GB  2018-12-22 00:29:56            336  \n",
            "noriuk/us-education-datasets-unification-project             U.S. Education Datasets: Unification Project         84MB  2018-12-22 17:09:05           1379  \n",
            "cityofLA/los-angeles-parking-citations                       Los Angeles Parking Citations                       245MB  2019-02-21 22:20:03           1824  \n",
            "anokas/kuzushiji                                             Kuzushiji-MNIST                                     318MB  2018-12-17 01:19:31            420  \n",
            "safegraph/visit-patterns-by-census-block-group               Consumer & Visitor Insights For Neighborhoods        66MB  2018-12-19 21:31:50            529  \n",
            "jutrera/stanford-car-dataset-by-classes-folder               Stanford Car Dataset by classes folder                2GB  2018-07-02 07:35:45           1761  \n",
            "mdhrumil/top-5000-youtube-channels-data-from-socialblade     Top 5000 Youtube channels data from Socialblade.    128KB  2018-09-09 14:05:54           3282  \n",
            "rmisra/news-headlines-dataset-for-sarcasm-detection          News Headlines Dataset For Sarcasm Detection          2MB  2018-06-09 22:14:56           1288  \n",
            "pavansanagapati/urban-sound-classification                   Urban Sound Classification                            6GB  2018-06-16 13:44:36           1452  \n",
            "jessicali9530/celeba-dataset                                 CelebFaces Attributes (CelebA) Dataset                1GB  2018-06-01 20:08:48           4313  \n",
            "fivethirtyeight/fivethirtyeight-comic-characters-dataset     FiveThirtyEight Comic Characters Dataset            577KB  2019-02-01 15:02:23           1179  \n"
          ],
          "name": "stdout"
        }
      ]
    },
    {
      "metadata": {
        "id": "v8BpOqle6Oej",
        "colab_type": "code",
        "outputId": "9cb8ea66-644c-4881-cbac-5a4b16d089f1",
        "colab": {
          "base_uri": "https://localhost:8080/",
          "height": 85
        }
      },
      "cell_type": "code",
      "source": [
        "!kaggle competitions download -c quora-insincere-questions-classification"
      ],
      "execution_count": 0,
      "outputs": [
        {
          "output_type": "stream",
          "text": [
            "train.csv.zip: Skipping, found more recently modified local copy (use --force to force download)\n",
            "embeddings.zip: Skipping, found more recently modified local copy (use --force to force download)\n",
            "sample_submission.csv.zip: Skipping, found more recently modified local copy (use --force to force download)\n",
            "test.csv.zip: Skipping, found more recently modified local copy (use --force to force download)\n"
          ],
          "name": "stdout"
        }
      ]
    },
    {
      "metadata": {
        "id": "GW-aVmzb7shC",
        "colab_type": "code",
        "colab": {}
      },
      "cell_type": "code",
      "source": [
        "!ls -al\n",
        "\n",
        "!unzip embeddings.zip\n",
        "!unzip train.csv.zip"
      ],
      "execution_count": 0,
      "outputs": []
    },
    {
      "metadata": {
        "id": "szAzitP7i-Yl",
        "colab_type": "code",
        "outputId": "62d588f9-8692-49d9-fd6d-4ce2b2736c98",
        "colab": {
          "base_uri": "https://localhost:8080/",
          "height": 255
        }
      },
      "cell_type": "code",
      "source": [
        "!ls -al"
      ],
      "execution_count": 0,
      "outputs": [
        {
          "output_type": "stream",
          "text": [
            "total 6443288\n",
            "drwxr-xr-x 1 root root       4096 Feb 24 01:09 .\n",
            "drwxr-xr-x 1 root root       4096 Feb 24 01:01 ..\n",
            "drwxr-xr-x 4 root root       4096 Feb 15 17:21 .config\n",
            "-rw-r--r-- 1 root root 6395920052 Feb 24 01:04 embeddings.zip\n",
            "drwxrwxr-x 2 root root       4096 Oct 31 19:53 glove.840B.300d\n",
            "drwxrwxr-x 2 root root       4096 Oct 31 20:04 GoogleNews-vectors-negative300\n",
            "drwxr-xr-x 2 root root       4096 Aug 25  2015 paragram_300_sl999\n",
            "drwxr-xr-x 1 root root       4096 Feb 15 17:21 sample_data\n",
            "-rw-r--r-- 1 root root    4282631 Feb 24 01:04 sample_submission.csv.zip\n",
            "-rw-r--r-- 1 root root   16426497 Feb 24 01:04 test.csv.zip\n",
            "---------- 1 root root  124206772 Oct 30 16:56 train.csv\n",
            "-rw-r--r-- 1 root root   57047694 Feb 24 01:01 train.csv.zip\n",
            "drwxrwxr-x 2 root root       4096 Oct 31 19:58 wiki-news-300d-1M\n"
          ],
          "name": "stdout"
        }
      ]
    },
    {
      "metadata": {
        "id": "fRAG9nu5jTYh",
        "colab_type": "code",
        "colab": {}
      },
      "cell_type": "code",
      "source": [
        "import pandas as pd\n",
        "\n",
        "from tensorflow.keras.models import Model\n",
        "from tensorflow.keras.layers import LSTM, Dense, Dropout, Input, Embedding\n",
        "from tensorflow.keras.optimizers import RMSprop\n",
        "from tensorflow.keras.preprocessing.text import Tokenizer\n",
        "from tensorflow.keras.preprocessing import sequence\n",
        "from tensorflow.keras.utils import to_categorical\n",
        "from tensorflow.keras.callbacks import EarlyStopping\n",
        "\n",
        "from sklearn.model_selection import train_test_split"
      ],
      "execution_count": 0,
      "outputs": []
    },
    {
      "metadata": {
        "id": "pugZjZ-2saNs",
        "colab_type": "code",
        "colab": {}
      },
      "cell_type": "code",
      "source": [
        "quora_df = pd.read_csv('train.csv')\n",
        "\n",
        "X = quora_df.question_text\n",
        "y = quora_df.target"
      ],
      "execution_count": 0,
      "outputs": []
    },
    {
      "metadata": {
        "id": "BdhWbbgosZ0m",
        "colab_type": "code",
        "colab": {}
      },
      "cell_type": "code",
      "source": [
        "#Split the dataset into train and test set\n",
        "\n",
        "X_train, X_test, y_train, y_test = train_test_split(X, y, test_size = 0.3, random_state = 10)"
      ],
      "execution_count": 0,
      "outputs": []
    },
    {
      "metadata": {
        "id": "Fj10MF7_t2uv",
        "colab_type": "code",
        "colab": {}
      },
      "cell_type": "code",
      "source": [
        "max_words = 100000\n",
        "max_len = 150\n",
        "embedding_dims = 50\n",
        "\n",
        "#Convrt the text into tokens\n",
        "\n",
        "tok = Tokenizer(num_words=max_words)\n",
        "tok.fit_on_texts(X_train)"
      ],
      "execution_count": 0,
      "outputs": []
    },
    {
      "metadata": {
        "id": "VRV-cQo7sTwE",
        "colab_type": "code",
        "colab": {}
      },
      "cell_type": "code",
      "source": [
        "#Convert the test tokens to sequence + pad the sequence\n",
        "\n",
        "sequences = tok.texts_to_sequences(X_train)\n",
        "X_train = sequence.pad_sequences(sequences,maxlen=max_len)"
      ],
      "execution_count": 0,
      "outputs": []
    },
    {
      "metadata": {
        "id": "Xx6R5Q9iuaO3",
        "colab_type": "code",
        "colab": {}
      },
      "cell_type": "code",
      "source": [
        "#Defining the neural network architecture\n",
        "\n",
        "Inp = Input(name='inputs',shape=[max_len])\n",
        "x = Embedding(max_words,embedding_dims,input_length=max_len)(Inp)\n",
        "x = LSTM(64,name='LSTM_01')(x)\n",
        "x = Dropout(0.5,name='Dropout_LSTM')(x)\n",
        "x = Dense(256,activation='relu',name='Dense_01')(x)\n",
        "x = Dropout(0.5,name='Dropout_Dense')(x)\n",
        "out = Dense(1,activation='sigmoid', name='output')(x)\n",
        "\n",
        "#On a multi-class classification problem, we should be using a sigmoid activation instead of softmax."
      ],
      "execution_count": 0,
      "outputs": []
    },
    {
      "metadata": {
        "id": "p_zHhf-TuikG",
        "colab_type": "code",
        "colab": {}
      },
      "cell_type": "code",
      "source": [
        "#Compiling the model\n",
        "\n",
        "model = Model(inputs=Inp,outputs=out)\n",
        "model.compile(loss='binary_crossentropy',optimizer='adam',metrics=['accuracy'])"
      ],
      "execution_count": 0,
      "outputs": []
    },
    {
      "metadata": {
        "id": "-1B_MxERu6zN",
        "colab_type": "code",
        "outputId": "660d857f-1a76-47b7-fb17-9483edcc17e4",
        "colab": {
          "base_uri": "https://localhost:8080/",
          "height": 374
        }
      },
      "cell_type": "code",
      "source": [
        "#Print the model summary\n",
        "\n",
        "model.summary()"
      ],
      "execution_count": 0,
      "outputs": [
        {
          "output_type": "stream",
          "text": [
            "_________________________________________________________________\n",
            "Layer (type)                 Output Shape              Param #   \n",
            "=================================================================\n",
            "inputs (InputLayer)          (None, 150)               0         \n",
            "_________________________________________________________________\n",
            "embedding_5 (Embedding)      (None, 150, 50)           5000000   \n",
            "_________________________________________________________________\n",
            "LSTM_01 (LSTM)               (None, 64)                29440     \n",
            "_________________________________________________________________\n",
            "Dropout_LSTM (Dropout)       (None, 64)                0         \n",
            "_________________________________________________________________\n",
            "Dense_01 (Dense)             (None, 256)               16640     \n",
            "_________________________________________________________________\n",
            "Dropout_Dense (Dropout)      (None, 256)               0         \n",
            "_________________________________________________________________\n",
            "output (Dense)               (None, 1)                 257       \n",
            "=================================================================\n",
            "Total params: 5,046,337\n",
            "Trainable params: 5,046,337\n",
            "Non-trainable params: 0\n",
            "_________________________________________________________________\n"
          ],
          "name": "stdout"
        }
      ]
    },
    {
      "metadata": {
        "id": "Gjth6KDmu8V0",
        "colab_type": "code",
        "colab": {}
      },
      "cell_type": "code",
      "source": [
        "#Define an early stopping mechanism: where validation loss is not improving\n",
        "\n",
        "early_stop = EarlyStopping(monitor='val_loss',min_delta=0.0001)"
      ],
      "execution_count": 0,
      "outputs": []
    },
    {
      "metadata": {
        "id": "QhuBEJczvHTT",
        "colab_type": "code",
        "outputId": "27320e20-b67b-4aaa-b6d4-d08b83bccf84",
        "colab": {
          "base_uri": "https://localhost:8080/",
          "height": 153
        }
      },
      "cell_type": "code",
      "source": [
        "#Training the single layer LSTM model \n",
        "\n",
        "model.fit(X_train,y_train,\n",
        "          batch_size=2048,\n",
        "          epochs=10,\n",
        "          validation_split=0.2,\n",
        "          callbacks=[early_stop])"
      ],
      "execution_count": 0,
      "outputs": [
        {
          "output_type": "stream",
          "text": [
            "Train on 731428 samples, validate on 182857 samples\n",
            "Epoch 1/10\n",
            "731428/731428 [==============================] - 179s 245us/sample - loss: 0.1644 - acc: 0.9457 - val_loss: 0.1175 - val_acc: 0.9532\n",
            "Epoch 2/10\n",
            "731428/731428 [==============================] - 178s 244us/sample - loss: 0.1086 - acc: 0.9557 - val_loss: 0.1169 - val_acc: 0.9544\n",
            "Epoch 3/10\n",
            "731428/731428 [==============================] - 178s 244us/sample - loss: 0.0987 - acc: 0.9592 - val_loss: 0.1184 - val_acc: 0.9538\n"
          ],
          "name": "stdout"
        },
        {
          "output_type": "execute_result",
          "data": {
            "text/plain": [
              "<tensorflow.python.keras.callbacks.History at 0x7f56b646efd0>"
            ]
          },
          "metadata": {
            "tags": []
          },
          "execution_count": 53
        }
      ]
    },
    {
      "metadata": {
        "id": "31k2hNfAvOFF",
        "colab_type": "code",
        "colab": {}
      },
      "cell_type": "code",
      "source": [
        "#Training the single layer LSTM model \n",
        "\n",
        "test_sequences = tok.texts_to_sequences(X_test)\n",
        "X_test = sequence.pad_sequences(test_sequences,maxlen=max_len)"
      ],
      "execution_count": 0,
      "outputs": []
    },
    {
      "metadata": {
        "id": "vwrwVTMqzIlg",
        "colab_type": "code",
        "outputId": "9b29be61-c8e0-4a11-8d55-c11774411625",
        "colab": {
          "base_uri": "https://localhost:8080/",
          "height": 51
        }
      },
      "cell_type": "code",
      "source": [
        "#Evaluate the test set \n",
        "\n",
        "model.evaluate(X_test,y_test)"
      ],
      "execution_count": 0,
      "outputs": [
        {
          "output_type": "stream",
          "text": [
            "391837/391837 [==============================] - 1616s 4ms/sample - loss: 0.1191 - acc: 0.9537\n"
          ],
          "name": "stdout"
        },
        {
          "output_type": "execute_result",
          "data": {
            "text/plain": [
              "[0.11913513604582843, 0.95370525]"
            ]
          },
          "metadata": {
            "tags": []
          },
          "execution_count": 55
        }
      ]
    },
    {
      "metadata": {
        "id": "Tts8V2aezKPE",
        "colab_type": "code",
        "colab": {}
      },
      "cell_type": "code",
      "source": [
        "`"
      ],
      "execution_count": 0,
      "outputs": []
    }
  ]
}